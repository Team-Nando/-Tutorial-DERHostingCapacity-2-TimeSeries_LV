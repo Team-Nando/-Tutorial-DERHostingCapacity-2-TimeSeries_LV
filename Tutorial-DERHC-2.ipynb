{
 "cells": [
  {
   "cell_type": "markdown",
   "metadata": {},
   "source": [
    "# Tutorial on DER Hosting Capacity | <font color=red>Part 2</font>: Time-Series Analysis of Three-Phase Unbalanced LV Networks\n",
    "\n",
    "Part 2 is about carrying out different time-series analyses of low voltage (LV) networks.\n",
    "\n",
    "After doing this tutorial, you are expected to:\n",
    "- Gain more understanding of the characteristics and behaviour of residential, three-phase LV distribution networks.\n",
    "- Understand the simulation process necessary to study different solar PV penetration levels and assess the corresponding voltage rise and/or asset congestion issues.\n",
    "- Understand how to determine the solar PV hosting capacity of LV networks."
   ]
  },
  {
   "cell_type": "markdown",
   "metadata": {},
   "source": [
    "## 1. Test LV Circuit and Considerations\n",
    "The test LV circuit (also known as feeder) used in this tutorial is a realistic, anonymised residential three-phase LV circuit based on data provided by **[AusNet Services](https://www.ausnetservices.com.au/)**, who is one of the distribution companies (known as Distribution Network Service Providers [DNSPs] in Australia) in the State of Victoria, Australia.\n",
    "\n",
    "The time-series active power values of residential load and PV generation used in this tutorial correspond to real, anonymised measurements from smart meters and dedicated PV generation meters that were also provided by **[AusNet Services](https://www.ausnetservices.com.au/)**.\n",
    "\n",
    "- The test LV circuit is one of multiple circuits connected to the same transformer (this is why its size is relatively large). For simplicity, only one LV circuit is being considered.\n",
    "\n",
    "- Also note that although the nominal line-to-line voltage is 400V on the secondary of the transformer, the transformer is actually having a transformation ratio that *boosts* the voltage on the secondary (around 8%). This *boost* is common practice in Australia and other countries around the world. Of course, the off-load tap changes can be used to tune the transformation ratio as needed.\n",
    "\n",
    "- The topology is shown in **Figure 1**. There are 31 single-phase residential customers connected through single-phase service cables. As shown in the figure, these customers are connected to different phase groups: 11 to phase 1 (red), 10 to phase 2 (black) and 10 to phase 3 (blue). A summary of characteristics of this LV circuit are provided in **Table 1**. \n",
    "\n",
    "- The residential load dataset contains profiles for 342 customers for a whole year (365 days) in 30-minute intervals. In this particular case, it contains only active power (kW). Consequently, in this tutorial we will be creating the associated reactive power (kvar) profiles.\n",
    "\n",
    "- The residential PV generation dataset contains daily normalised (from 0 to 1) profiles for a whole year in 30-minute intervals. Given that the sun shines simultaneously to everyone in a small area (such as an LV circuit), for the day being investigated, only one PV generation profile is selected and applied for all the PV systems. However, the actual PV generation depends on the size of each of the PV systems (and any PV inverter function being used).\n",
    "\n",
    "- Once specific days to be studied are defined, the code randomly allocates profiles of demand to customers. Similarly, once a PV penetration is defined (percentage of customers with a PV system), the code randomly allocates PV systems to customers. However, we use a `seed` to keep the same random list for different PV penetrations.\n",
    "\n",
    "- Given that the Test LV Circuit has small impedances due to its modern design, **the adopted PV systems are large (with 10 kVA inverters). This is simply to demonstrate voltage rise issues**. However, in Australia, it is common for distribution companies to impose a 5kW export limit to single-phase customers. In practice, this means that most installations have inverters of up to 5kVA."
   ]
  },
  {
   "cell_type": "markdown",
   "metadata": {},
   "source": [
    "<img style=\"float: middle;\" src=\"LVcircuit-topology.png\" width=\"60%\">"
   ]
  },
  {
   "cell_type": "markdown",
   "metadata": {},
   "source": [
    "**<center>Figure 1. Test LV Circuit Topology</center>**"
   ]
  },
  {
   "cell_type": "markdown",
   "metadata": {},
   "source": [
    "| Customers (1-ph) | LV Lines/Segments (3-ph) | Service Cables (1-ph) | Distribution Transformer (3-ph) | Frequency |\n",
    "| :------: | :------: | :------: | :------: | :------: |\n",
    "| 31 | 24 | 31 | 22/0.433 kV/kV, 500 kVA (D-Y) | 50 Hz |"
   ]
  },
  {
   "cell_type": "markdown",
   "metadata": {},
   "source": [
    "**<center>Table 1. Summary of characteristics of the Test LV Circuit</center>**"
   ]
  },
  {
   "cell_type": "markdown",
   "metadata": {},
   "source": [
    "## 2. Initialisation\n",
    "### 2.1 Import libraries\n",
    "Run the code below to import the libraries that will be used in this tutorial."
   ]
  },
  {
   "cell_type": "code",
   "execution_count": null,
   "metadata": {
    "ExecuteTime": {
     "end_time": "2020-08-11T07:14:35.772124Z",
     "start_time": "2020-08-11T07:14:35.768135Z"
    }
   },
   "outputs": [],
   "source": [
    "import os\n",
    "import numpy as np\n",
    "import pandas as pd\n",
    "import random\n",
    "import matplotlib.pyplot as plt\n",
    "import math\n",
    "import dss\n",
    "from random import choice"
   ]
  },
  {
   "cell_type": "markdown",
   "metadata": {},
   "source": [
    "### 2.2 Set the working path\n",
    "Run the following code to set your working path.   \n",
    "As an output you get the location in your computer."
   ]
  },
  {
   "cell_type": "code",
   "execution_count": null,
   "metadata": {
    "ExecuteTime": {
     "end_time": "2020-08-11T07:14:35.785089Z",
     "start_time": "2020-08-11T07:14:35.776114Z"
    },
    "scrolled": true
   },
   "outputs": [],
   "source": [
    "mydir = os.getcwd()\n",
    "print(\"The files are located in the following path: mydir = %s\" %mydir)"
   ]
  },
  {
   "cell_type": "markdown",
   "metadata": {},
   "source": [
    "### 2.3 Set up  dss_engine\n",
    "Before running the code, we need to set up the dss_engine."
   ]
  },
  {
   "cell_type": "code",
   "execution_count": null,
   "metadata": {
    "ExecuteTime": {
     "end_time": "2020-08-11T07:14:35.796061Z",
     "start_time": "2020-08-11T07:14:35.787086Z"
    }
   },
   "outputs": [],
   "source": [
    "dss_engine = dss.DSS\n",
    "DSSText = dss_engine.Text                                                      \n",
    "DSSCircuit = dss_engine.ActiveCircuit                                            \n",
    "DSSSolution = dss_engine.ActiveCircuit.Solution                                      \n",
    "ControlQueue = dss_engine.ActiveCircuit.CtrlQueue                                          \n",
    "dss_engine.AllowForms = 0"
   ]
  },
  {
   "cell_type": "markdown",
   "metadata": {},
   "source": [
    "## 3. Network, Load and DER Modelling\n",
    "### 3.1 Define components\n",
    "The `LVcircuit-master.txt` file defines the frequency and base voltages, then it redirects to network components definitions: transformers, lines, loads, etc."
   ]
  },
  {
   "cell_type": "code",
   "execution_count": null,
   "metadata": {
    "ExecuteTime": {
     "end_time": "2020-08-11T07:14:35.813015Z",
     "start_time": "2020-08-11T07:14:35.797058Z"
    }
   },
   "outputs": [],
   "source": [
    "DSSText.Command = 'Clear'                               \n",
    "DSSText.Command = 'Compile ' + mydir +  '\\\\LVcircuit-master.txt'    \n",
    "DSSText.Command = 'Set VoltageBases = [22.0, 0.400]'\n",
    "DSSText.Command = 'calcvoltagebases'"
   ]
  },
  {
   "cell_type": "markdown",
   "metadata": {},
   "source": [
    "### 3.2 Load and PV profiles\n",
    "#### 3.2.1 Import Load and PV profiles\n",
    "The datasets used in this tutorial are:\n",
    "\n",
    "- `Residential load data 30-min resolution.npy`: This numpy file contains the load profiles (only active power) for 342 customers for a whole year in 30-minute intervals.\n",
    "- `Residential PV data 30-min resolution.npy`: This numpy file contains normalised PV generation profiles for a whole year in 30-minute intervals."
   ]
  },
  {
   "cell_type": "code",
   "execution_count": null,
   "metadata": {
    "ExecuteTime": {
     "end_time": "2020-08-11T07:14:35.851911Z",
     "start_time": "2020-08-11T07:14:35.819000Z"
    }
   },
   "outputs": [],
   "source": [
    "houseData30minutes = np.load(mydir + '\\\\Residential load data 30-min resolution.npy') \n",
    "PVData30minutes = np.load(mydir + '\\\\Residential PV data 30-min resolution.npy')"
   ]
  },
  {
   "cell_type": "markdown",
   "metadata": {},
   "source": [
    "#### 3.2.2 Store the *shape* of the Load and PV profiles  \n",
    "Now that the data has been loaded, let's take a look at the dimensions of the numpy files.  \n",
    "**Note:** The format of the house data is `(Customers, Days, Readings)` stored in `shape_profiles` and the PV profiles' data is `(Days, Readings)` stored in `PV_shape_profiles` which can be seen by running the code below."
   ]
  },
  {
   "cell_type": "code",
   "execution_count": null,
   "metadata": {
    "ExecuteTime": {
     "end_time": "2020-08-11T07:14:35.858893Z",
     "start_time": "2020-08-11T07:14:35.852909Z"
    },
    "scrolled": false
   },
   "outputs": [],
   "source": [
    "shape_profiles  = houseData30minutes.shape\n",
    "noProfiles = shape_profiles[0]\n",
    "PV_shape_profiles  = PVData30minutes.shape\n",
    "\n",
    "print(\"The shape of the load profile is:\", shape_profiles) \n",
    "print(\"The shape of the PV profiles is:\", PV_shape_profiles) "
   ]
  },
  {
   "cell_type": "markdown",
   "metadata": {},
   "source": [
    "#### 3.2.3 Visualise the Load profiles\n",
    "\n",
    "**Note:** For simplicity, the Load profiles of all customers for *only one day* given as `selected_day` are plotted below. Since the profiles in this example correspond to Australian data (i.e., Southern Hemisphere), the start of the year (January) ccorresponds to summer (Jan-Feb), then autumn (Mar-May), winter (Jun-Aug), spring (Sep-Nov), and summer again (Dec).\n",
    "\n",
    "Feel free to change the value of the `selected_day` to get different load profiles for different days of the year."
   ]
  },
  {
   "cell_type": "code",
   "execution_count": null,
   "metadata": {},
   "outputs": [],
   "source": [
    "x=[i for i in range(48)]\n",
    "l=[]\n",
    "for i in range(24): \n",
    "      l.append(\"%s:00\"%i)\n",
    "      l.append(\" \")\n",
    "    \n",
    "fig=plt.figure(figsize=(9,3)) \n",
    "selected_day=45                     #here is where you can change the selected day\n",
    "for row in houseData30minutes[:,selected_day,:]:\n",
    "   plt.plot(row, label = 'load profiles')\n",
    "   plt.xlabel(\"Time (hh:mm)\", fontsize = 15)\n",
    "   plt.xticks(fontsize = 10)\n",
    "   plt.xticks(x,l, fontsize=10, rotation=60)\n",
    "   plt.ylabel('Active Power (kW)', fontsize = 15)\n",
    "   plt.yticks(fontsize = 10)\n",
    "   plt.title('Residential Load Profiles for the Selected Day', fontsize = 15)"
   ]
  },
  {
   "cell_type": "markdown",
   "metadata": {},
   "source": [
    "#### 3.2.4 Visualise the normalised PV generation profiles\n",
    "The plot of all normalised PV generation profiles for the whole year is shown by running the code below."
   ]
  },
  {
   "cell_type": "code",
   "execution_count": null,
   "metadata": {
    "scrolled": true
   },
   "outputs": [],
   "source": [
    "fig=plt.figure(figsize=(9,3)) \n",
    "for row in PVData30minutes:\n",
    "   plt.plot(row, label = 'pv profiles')\n",
    "   plt.xlabel(\"Time (hh:mm)\", fontsize = 15)\n",
    "   plt.xticks(fontsize = 10)\n",
    "   plt.xticks(x,l, fontsize=10, rotation=60)\n",
    "   plt.ylabel('Normalised PV Generation', fontsize = 15)\n",
    "   plt.yticks(fontsize = 10)\n",
    "   plt.title('Residential Daily PV Generation Profiles in a Year', fontsize = 15)"
   ]
  },
  {
   "cell_type": "markdown",
   "metadata": {},
   "source": [
    "### 3.3 Definition of Functions\n",
    "#### 3.3.1 def <font color=blue> Load_profile_allocation</font> (New,icust,cust,iday)\n",
    "- When `New`==1, generate a new loadShape with empty `load_profile`. Set power factor equal to 0.95\n",
    "- When `New`==0, set **LoadShapes** equal to random `load_profile` of `iday` from `houseData30minutes`. Allocate list `keep_power_factor` as powerfactor\n",
    "- Allocate the loadshape **customer_profile_icust** to **load.cust**."
   ]
  },
  {
   "cell_type": "code",
   "execution_count": null,
   "metadata": {
    "ExecuteTime": {
     "end_time": "2020-08-11T07:14:35.882829Z",
     "start_time": "2020-08-11T07:14:35.872857Z"
    }
   },
   "outputs": [],
   "source": [
    "def Load_profile_allocation(New,icust,cust,iday):\n",
    "    if New==1:\n",
    "       load_profile = np.zeros(48)\n",
    "       DSSCircuit.LoadShapes.New('customer_profile_%s' %(icust))\n",
    "       DSSCircuit.LoadShapes.Npts = 48\n",
    "       DSSCircuit.LoadShapes.MinInterval = 30\n",
    "       DSSCircuit.LoadShapes.UseActual = 1\n",
    "       DSSCircuit.LoadShapes.Qmult = (load_profile * math.tan(math.acos(0.95))).tolist()\n",
    "    \n",
    "    else:\n",
    "        random_profile = np.random.randint(0,noProfiles)        \n",
    "        load_profile = houseData30minutes[random_profile, iday, :]\n",
    "        reactive_profile = []\n",
    "        for j in range(48):\n",
    "            reactive_profile.append((load_profile[j]) * math.tan(math.acos(keep_power_factor[icust][j])))\n",
    "        reactive_profile = np.array(reactive_profile)          \n",
    "        DSSCircuit.LoadShapes.Qmult = reactive_profile.tolist()\n",
    "        \n",
    "        \n",
    "    DSSCircuit.LoadShapes.Name = 'customer_profile_%s' %(icust)\n",
    "    DSSCircuit.LoadShapes.Pmult = load_profile.tolist()  \n",
    "    DSSCircuit.SetActiveElement('load.%s'%(cust))\n",
    "    DSSCircuit.ActiveElement.Properties('daily').Val = str('customer_profile_%s' %(icust))\n",
    "    if New==0:\n",
    "        return (load_profile,reactive_profile,random_profile)"
   ]
  },
  {
   "cell_type": "markdown",
   "metadata": {},
   "source": [
    "#### 3.3.2 def <font color=blue> PV_allocation</font> (New,icust,cust,iday)\n",
    "- When `New`==1, generate a loadshape with name **pv_profile_icust** and allocate empty `PV_profile` to it. Generate **PVSystem.icust** and allocate it to **load.cust**. Allocate the loadshape **pv_profile_icust** to **PVSystem.icust**.\n",
    "- When `New`==0, allocate `PV_profile` of `iday` to the loadshape **pv_profile_icust**. Allocate the loadshape **pv_profile_icust** to **PVSystem.icust**. Allocate **PVSystem.icust** to **load.cust**."
   ]
  },
  {
   "cell_type": "code",
   "execution_count": null,
   "metadata": {
    "ExecuteTime": {
     "end_time": "2020-08-11T07:14:35.869864Z",
     "start_time": "2020-08-11T07:14:35.859891Z"
    }
   },
   "outputs": [],
   "source": [
    "def PV_allocation(New,icust,cust,iday):\n",
    "    if New==1:\n",
    "        PV_profile = np.zeros(48)\n",
    "        DSSCircuit.LoadShapes.New('pv_profile_%s' %(icust))\n",
    "        DSSCircuit.LoadShapes.Npts = 48\n",
    "        DSSCircuit.LoadShapes.MinInterval = 30\n",
    "        DSSCircuit.LoadShapes.UseActual = 1\n",
    "        DSSCircuit.LoadShapes.Pmult = PV_profile.tolist()\n",
    "        DSSCircuit.SetActiveElement('load.%s' %(cust))\n",
    "        bus_name = DSSCircuit.ActiveElement.Properties('bus1').Val\n",
    "        DSSText.Command = 'new PVSystem.%s'%(icust)\\\n",
    "                                + ' phases = 1'  \\\n",
    "                                + ' irradiance = 1' \\\n",
    "                                + ' %cutin = 0.05' \\\n",
    "                                + ' %cutout = 0.05' \\\n",
    "                                + ' vmaxpu = 1.5' \\\n",
    "                                + ' vminpu = 0.5' \\\n",
    "                                + ' kva = 10' \\\n",
    "                                + ' pmpp = 10'\\\n",
    "                                + ' bus1 = ' + str(bus_name)\\\n",
    "                                + ' pf = 1' \\\n",
    "                                + ' kv = 0.23' \\\n",
    "                                + ' daily = ' +str('pv_profile_%s'%(icust))\n",
    "    else:\n",
    "        PV_profile = PVData30minutes[iday,:]\n",
    "        pv_profiles_all.append(PV_profile)        \n",
    "        DSSCircuit.LoadShapes.Name = 'pv_profile_%s' %(icust)\n",
    "        DSSCircuit.LoadShapes.Pmult = PV_profile.tolist()        \n",
    "        DSSCircuit.SetActiveElement('load.%s' %(cust))\n",
    "        bus_name = DSSCircuit.ActiveElement.Properties('bus1').Val\n",
    "        DSSCircuit.SetActiveElement('PVSystem.%s'%(icust))\n",
    "        DSSCircuit.ActiveElement.Properties('bus1').Val = str(bus_name)\n",
    "        DSSCircuit.ActiveElement.Properties('daily').Val = str('pv_profile_%s'%(icust))\n",
    "        return PV_profile"
   ]
  },
  {
   "cell_type": "markdown",
   "metadata": {},
   "source": [
    "#### 3.3.3 def <font color=blue>Initiate_variable</font> (customers)\n",
    "The variables used to monitor different values (as explained below), are firstly initialised as empty:\n",
    "- `kW_monitors`, `df_kw` will restore single phase active power of load. \n",
    "- `kvar_monitors`, `df_kvar` will restore single phase reactive power of load. \n",
    "- `voltages_monitors`, `df_volt` will restore single phase voltage of load. \n",
    "- `pd.DataFrame()` is used to restore data to excel. \n",
    "- `load_profiles_all` will restore all the `load_ profile`. \n",
    "- `pv_profiles_all` will resotre all the `pv_profile`. \n",
    "- `random_profiles_all` will restore all `random_profile`.\n",
    "- `rand_cust` restore all the `random_customer`.\n",
    "- `reactive_profiles_all` restore all the `reactive_profile`.\n"
   ]
  },
  {
   "cell_type": "code",
   "execution_count": null,
   "metadata": {
    "ExecuteTime": {
     "end_time": "2020-08-11T07:14:35.924717Z",
     "start_time": "2020-08-11T07:14:35.918732Z"
    }
   },
   "outputs": [],
   "source": [
    "def Initiate_variable(customers):\n",
    "    kW_monitors = np.zeros((customers,48))\n",
    "    kvar_monitors = np.zeros((customers,48))\n",
    "    voltages_monitors = np.zeros((customers,48))\n",
    "    df_kw = pd.DataFrame()\n",
    "    df_kvar = pd.DataFrame()\n",
    "    df_volt = pd.DataFrame()\n",
    "    load_profiles_all = []\n",
    "    pv_profiles_all = []\n",
    "    random_profiles_all = []    \n",
    "    rand_cust = []  \n",
    "    reactive_profiles_all = []\n",
    "    return  (kW_monitors, kvar_monitors, voltages_monitors, df_kw, df_kvar, \n",
    "             df_volt, load_profiles_all, pv_profiles_all, random_profiles_all, rand_cust,reactive_profiles_all)"
   ]
  },
  {
   "cell_type": "markdown",
   "metadata": {},
   "source": [
    "#### 3.3.4 def <font color=blue>Monitors_data</font> ()\n",
    "\n",
    "This function will be used to access and save active and reactive power as well as voltage magnitude of different load points. This is also a nice demonstration of accessing these measurements without the need of actually deploying monitors in our distribution network in OpenDSS."
   ]
  },
  {
   "cell_type": "code",
   "execution_count": null,
   "metadata": {
    "ExecuteTime": {
     "end_time": "2020-08-11T07:14:35.936685Z",
     "start_time": "2020-08-11T07:14:35.925714Z"
    },
    "code_folding": []
   },
   "outputs": [],
   "source": [
    "def Monitors_data():\n",
    "    for icust, cust in enumerate(Loadname):\n",
    "            DSSCircuit.SetActiveElement('load.%s' %(cust))\n",
    "            kW_monitors[icust, itime] = DSSCircuit.ActiveElement.Powers[0]\n",
    "            kvar_monitors[icust,itime]= DSSCircuit.ActiveElement.Powers[1]\n",
    "            bus_name = DSSCircuit.ActiveElement.Properties('bus1').Val\n",
    "            DSSCircuit.SetActiveBus(bus_name)\n",
    "            voltages_monitors[icust, itime] = DSSCircuit.ActiveBus.puVmagAngle[0]"
   ]
  },
  {
   "cell_type": "markdown",
   "metadata": {},
   "source": [
    "## 4. Simulation and Results\n",
    "### 4.1  Initialise Load profiles and PV systems\n",
    "After defining the functions, we are ready to allocate the Load and PV profiles"
   ]
  },
  {
   "cell_type": "code",
   "execution_count": null,
   "metadata": {
    "ExecuteTime": {
     "end_time": "2020-08-11T07:14:35.903773Z",
     "start_time": "2020-08-11T07:14:35.884824Z"
    }
   },
   "outputs": [],
   "source": [
    "Loadname = DSSCircuit.Loads.AllNames\n",
    "for icust, cust in enumerate(Loadname):\n",
    "    Load_profile_allocation(1,icust,cust,0)  \n",
    "    PV_allocation(1,icust,cust,0)"
   ]
  },
  {
   "cell_type": "markdown",
   "metadata": {},
   "source": [
    "### 4.2 Set simulation period\n",
    "Set `start_day` and `total_day` to choose the simulation period you want."
   ]
  },
  {
   "cell_type": "code",
   "execution_count": null,
   "metadata": {},
   "outputs": [],
   "source": [
    "start_day = 0\n",
    "total_days = 3"
   ]
  },
  {
   "cell_type": "markdown",
   "metadata": {},
   "source": [
    "### 4.3 Set PV penetration level\n",
    "Here we choose the percentage of PV penetration (0-100%) we want to investigate.\n",
    "- PV penetration is defined here as the percentage of houses with PV systems. Given that we have 31 residential customers, a 50% PV penetration means 15 customers."
   ]
  },
  {
   "cell_type": "code",
   "execution_count": null,
   "metadata": {
    "ExecuteTime": {
     "end_time": "2020-08-11T07:14:35.917735Z",
     "start_time": "2020-08-11T07:14:35.912750Z"
    }
   },
   "outputs": [],
   "source": [
    "penetration = 100\n",
    "num_cust = len(Loadname)*(penetration/100)"
   ]
  },
  {
   "cell_type": "markdown",
   "metadata": {},
   "source": [
    "### 4.4 Generate a random power factor list\n",
    "Here a random power factor list is genereted a priori for each selected day (of the chosen `total days`) for all customers. This power factor will then be used to produce the associated reactive power profiles for each of the customers."
   ]
  },
  {
   "cell_type": "code",
   "execution_count": null,
   "metadata": {
    "ExecuteTime": {
     "end_time": "2020-08-11T07:14:35.911752Z",
     "start_time": "2020-08-11T07:14:35.904770Z"
    }
   },
   "outputs": [],
   "source": [
    "keep_power_factor = []\n",
    "customers = len(Loadname)\n",
    "for i in range(total_days*customers):\n",
    "    keep_pf = []\n",
    "    for j in range(48):\n",
    "        random_pf = random.uniform(0.9,0.98)\n",
    "        keep_pf.append(random_pf)\n",
    "    keep_power_factor.append(keep_pf)"
   ]
  },
  {
   "cell_type": "markdown",
   "metadata": {},
   "source": [
    "### 4.5 Daily power flow analysis \n",
    "A 30-min-resolution power flow analysis is executed for the chosen period and specified penetration level. For each daily simulation, the load profiles and PV systems are randomly allocated. \n",
    "\n",
    "**Note:** `random.seed()` helps to generate the same random list, so you can change the number in the bracket to make a new one. The same random list is needed for keeping the same customers when increasing the PV penetration level.\n",
    "\n",
    "See steps as below:\n",
    "1. Initiate all the variables as introduced in the function `Initiate_variable()`. \n",
    "\n",
    "2. Use `Load_profile_allocation()` function to allocate load profiles to all loads.\n",
    "3. Restore all the load names in `random_customer`. Shuffle `random_customer`. Restore `random_customer[numb]` to `rand_cust`.\n",
    "4. Use `PV_allocation()` fucntion to allocate **PVSystem.numb** to **load.random_customer[numb]**.\n",
    "5. Set OpenDSS solution mode to daily.\n",
    "6. Run the simulation and check convergence.\n",
    "7. Retrieve the results from dss_engine and plot voltage profiles."
   ]
  },
  {
   "cell_type": "code",
   "execution_count": null,
   "metadata": {
    "ExecuteTime": {
     "end_time": "2020-08-11T07:14:36.633071Z",
     "start_time": "2020-08-11T07:14:35.938680Z"
    },
    "code_folding": []
   },
   "outputs": [],
   "source": [
    "for iday in range(start_day,start_day+total_days):\n",
    "    print(\"This is day: \",iday)\n",
    "    np.random.seed(10)\n",
    "    (kW_monitors, kvar_monitors, voltages_monitors, df_kw, df_kvar, df_volt, \n",
    "     load_profiles_all, pv_profiles_all, random_profiles_all, rand_cust,reactive_profiles_all) = Initiate_variable(customers)\n",
    "\n",
    "    for icust, cust in enumerate(Loadname):\n",
    "        load_profile,reactive_profile,random_profile=Load_profile_allocation(0,icust,cust,iday)\n",
    "        load_profiles_all.append(load_profile)\n",
    "        reactive_profiles_all.append(reactive_profile)\n",
    "        random_profiles_all.append(random_profile)\n",
    "        random.seed(90)\n",
    "        \n",
    "    random_customer = np.array(Loadname)\n",
    "    random.shuffle(random_customer)    \n",
    "    for numb in range(round(num_cust)):                \n",
    "        rand_cust.append(choice([PV_cust for PV_cust in random_customer if PV_cust not in rand_cust]))\n",
    "        PV_allocation(0,numb,rand_cust[numb],iday)\n",
    "        PV_profile=PV_allocation(0,numb,rand_cust[numb],iday)\n",
    "        pv_profiles_all.append(PV_profile)            \n",
    "    DSSText.Command = 'Reset'       \n",
    "    DSSText.Command = 'Set Mode=daily  number=1 stepsize=30m' \n",
    "        \n",
    "    for itime in range(48):\n",
    "        DSSSolution.Solve()\n",
    "        Monitors_data()\n",
    "    df_kw=pd.DataFrame(kW_monitors)\n",
    "    df_kvar=pd.DataFrame(kvar_monitors)\n",
    "    df_volt=pd.DataFrame(voltages_monitors)    \n",
    "    \n",
    "    if DSSSolution.Converged:\n",
    "         print('Message: The Solution Converged Successfully\\n')\n",
    "    else:\n",
    "         print(\"Message: The Solution Did Not Converge\\n\") \n",
    "    \n",
    "\n",
    "        \n",
    "    fig=plt.figure(figsize=(9,3)) \n",
    "    for idx, row in df_volt[0:31].iterrows():\n",
    "             plt.plot(np.array(row), linewidth = 2)         \n",
    "             plt.xlabel(\"Time (hh:mm)\", fontsize = 15)\n",
    "             plt.xticks(fontsize = 10)\n",
    "             plt.xticks(x,l, fontsize=10, rotation=60)\n",
    "             plt.ylabel('Voltage (p.u.)', fontsize = 15)\n",
    "             plt.yticks(fontsize = 10)\n",
    "             plt.title(\"Voltage Profile Day %s\"%(iday+1), fontsize = 15)\n",
    "             plt.ylim([1.05,1.13])\n",
    "             plt.axhline(1.10, linewidth = 1,linestyle='dashed', color = 'r')\n",
    "    plt.show()   \n",
    "\n",
    "   "
   ]
  },
  {
   "cell_type": "markdown",
   "metadata": {
    "ExecuteTime": {
     "end_time": "2020-08-06T09:46:08.899152Z",
     "start_time": "2020-08-06T09:46:08.894162Z"
    }
   },
   "source": [
    "## 5. Further Analysis of the Results\n",
    "### 5.1 Selected Load profiles & Customers allocated with **PV**\n",
    "\n",
    "This section shows selected load profiles and customers which are allocated PV profiles. These are selected based on a random seed and then shuffled (**see section 4**) to include uncertainty in our analysis."
   ]
  },
  {
   "cell_type": "code",
   "execution_count": null,
   "metadata": {
    "ExecuteTime": {
     "end_time": "2020-08-11T07:14:36.639057Z",
     "start_time": "2020-08-11T07:14:36.634068Z"
    }
   },
   "outputs": [],
   "source": [
    "print(\"Load profiles in this seed: \",random_profiles_all,customers,'\\n')     \n",
    "print(\"The customers with allocated PV profiles are:\" ,rand_cust,'\\n')"
   ]
  },
  {
   "cell_type": "markdown",
   "metadata": {},
   "source": [
    "### 5.2 Verification of load curves\n",
    "\n",
    "In this section, load curves are verified by plotting *actual load profile*, *monitored load* curves and *loadshapes* of **OpenDSS** loads. Actually, these are same load profiles but we want to verify if our code is using the same selected load profiles in **OpenDSS** simulation. For simplicity, only first load profile is verified.\n",
    "If you want to check the load profile of other customer, change the `selected_customer` to another number (0 to 30)."
   ]
  },
  {
   "cell_type": "code",
   "execution_count": null,
   "metadata": {
    "ExecuteTime": {
     "end_time": "2020-08-11T07:14:36.787658Z",
     "start_time": "2020-08-11T07:14:36.640053Z"
    }
   },
   "outputs": [],
   "source": [
    "selected_customer=28\n",
    "fig=plt.figure(figsize=(9,3))\n",
    "plt.plot(load_profiles_all[selected_customer], label = 'actual')\n",
    "plt.plot(kW_monitors[selected_customer,:], label = 'monitored', linestyle='-.')\n",
    "DSSCircuit.LoadShapes.Name = 'customer_profile_%s' %(selected_customer)\n",
    "plt.plot(DSSCircuit.LoadShapes.Pmult, label = 'loadshape_opendss', linestyle='dashed')\n",
    "plt.xticks(x,l, fontsize=10, rotation=60)\n",
    "plt.xlabel(\"Time (hh:mm)\", fontsize = 15)\n",
    "plt.ylabel('Active Power (kW)', fontsize = 15)\n",
    "plt.title('Verification of Load Curves', fontsize = 15)\n",
    "plt.legend()\n",
    "plt.show()"
   ]
  },
  {
   "cell_type": "markdown",
   "metadata": {},
   "source": [
    "### 5.3 Plot of selected PV profiles\n",
    "\n",
    "This section plots **PV profiles** of the days that are being used in our simulation. "
   ]
  },
  {
   "cell_type": "code",
   "execution_count": null,
   "metadata": {
    "ExecuteTime": {
     "end_time": "2020-08-11T07:14:36.964186Z",
     "start_time": "2020-08-11T07:14:36.788657Z"
    },
    "scrolled": false
   },
   "outputs": [],
   "source": [
    "fig=plt.figure(figsize=(9,3))\n",
    "plot_day=[i for i in range(start_day, total_days)]\n",
    "for row in PVData30minutes[plot_day,:]:\n",
    "   plt.plot(row, label = 'pv profiles')\n",
    "   plt.xlabel(\"Time (hh:mm)\", fontsize = 15)\n",
    "   plt.xticks(fontsize = 10)\n",
    "   plt.ylabel('Active Power (p.u.)', fontsize = 15)\n",
    "   plt.xticks(x,l, fontsize=10, rotation=60)\n",
    "   plt.yticks(fontsize = 10)\n",
    "   plt.title('Daily PV Profiles', fontsize = 15)\n",
    "plt.show()"
   ]
  },
  {
   "cell_type": "code",
   "execution_count": null,
   "metadata": {},
   "outputs": [],
   "source": []
  }
 ],
 "metadata": {
  "kernelspec": {
   "display_name": "Python 3 (ipykernel)",
   "language": "python",
   "name": "python3"
  },
  "language_info": {
   "codemirror_mode": {
    "name": "ipython",
    "version": 3
   },
   "file_extension": ".py",
   "mimetype": "text/x-python",
   "name": "python",
   "nbconvert_exporter": "python",
   "pygments_lexer": "ipython3",
   "version": "3.9.13"
  },
  "toc": {
   "base_numbering": 1,
   "nav_menu": {},
   "number_sections": false,
   "sideBar": true,
   "skip_h1_title": false,
   "title_cell": "Table of Contents",
   "title_sidebar": "Contents",
   "toc_cell": false,
   "toc_position": {
    "height": "calc(100% - 180px)",
    "left": "10px",
    "top": "150px",
    "width": "370px"
   },
   "toc_section_display": true,
   "toc_window_display": true
  },
  "varInspector": {
   "cols": {
    "lenName": 16,
    "lenType": 16,
    "lenVar": 40
   },
   "kernels_config": {
    "python": {
     "delete_cmd_postfix": "",
     "delete_cmd_prefix": "del ",
     "library": "var_list.py",
     "varRefreshCmd": "print(var_dic_list())"
    },
    "r": {
     "delete_cmd_postfix": ") ",
     "delete_cmd_prefix": "rm(",
     "library": "var_list.r",
     "varRefreshCmd": "cat(var_dic_list()) "
    }
   },
   "types_to_exclude": [
    "module",
    "function",
    "builtin_function_or_method",
    "instance",
    "_Feature"
   ],
   "window_display": false
  }
 },
 "nbformat": 4,
 "nbformat_minor": 2
}
